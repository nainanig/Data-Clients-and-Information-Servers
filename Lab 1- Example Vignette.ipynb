{
 "cells": [
  {
   "cell_type": "code",
   "execution_count": 1,
   "metadata": {
    "collapsed": false
   },
   "outputs": [
    {
     "name": "stdout",
     "output_type": "stream",
     "text": [
      "[1] \"Using direct authentication\"\n"
     ]
    }
   ],
   "source": [
    "library(twitteR)\n",
    "setup_twitter_oauth(\"klxgbhkXthwJnyaZkEGhCjkzc\",\"QlDgLS9lZGDu4pmzeedbVsM7yq4SGJMuTg43kqKCwmkcgfmj91\",\"772501946771070976-Jn3eTgPox3BT5AO2JSPhijJT9JRYPaH\",\"17g643pjFbGeH0JIY1Gl9FalHL3K4KtnRbqLljAYc1GDd\")"
   ]
  },
  {
   "cell_type": "code",
   "execution_count": 18,
   "metadata": {
    "collapsed": false
   },
   "outputs": [
    {
     "name": "stdout",
     "output_type": "stream",
     "text": [
      "[[1]]\n",
      "[1] \"creamsunny: RT @10Ronaldinho: Legend! @kingjames @fcbarcelona ⚽️ @nba \\xed\\xa0\\xbc\\xed\\xbf\\x80 @nbaallstar #NBAAllStar #NBACelebGame https://t.co/fCMiUmb3zk\"\n",
      "\n",
      "[[2]]\n",
      "[1] \"AgusCARP77: RT @10Ronaldinho: Legend! @kingjames @fcbarcelona ⚽️ @nba \\xed\\xa0\\xbc\\xed\\xbf\\x80 @nbaallstar #NBAAllStar #NBACelebGame https://t.co/fCMiUmb3zk\"\n",
      "\n",
      "[[3]]\n",
      "[1] \"tlcalve_: RT @10Ronaldinho: Me divertindo um pouco aqui no @nba @nbaallstar kkkk \\xed\\xa0\\xbc\\xed\\xbf\\x80 @killerjunior23 #NBAAllStar #NBACelebGame https://t.co/UUHPCclVz8\"\n",
      "\n",
      "[[4]]\n",
      "[1] \"yoitsrosalie: .@russwest44 @okcthunder #oklahomacitythunder #RussellWestbrook #NBAAllStar #allstarweekend #okc  #NBACelebGame… https://t.co/B6paODZpVC\"\n",
      "\n",
      "[[5]]\n",
      "[1] \"melesonwheels28: RT @DefPenHoops: Romeo airballs a 3 and then the mannequin challenge happened for some reason.\\n\\nWhy? \\n\\n#NBACelebGame\\nhttps://t.co/f6MHMURaI8\"\n",
      "\n",
      "[[6]]\n",
      "[1] \"imnobody_65: RT @g_alaxyfanfan: KrisKingdom1106: [HQ] 170218 #WuYifan #KrisWu\\n#KrisWuNBACelebGame #NBAAllStar #NBACelebGame \\nCr: Soliloquy独白 https://t.c…\"\n",
      "\n",
      "[[7]]\n",
      "[1] \"blessedwithwork: RT @NBA: At the #NBACelebGame, @Jarrius steals the show! #NBAAllStar https://t.co/Ap73WR0Kmc\"\n",
      "\n",
      "[[8]]\n",
      "[1] \"IlahIcecream: RT @KrisWuBurberry: Kris Wu scored at the #NBAAllStar   Celebrity Game #NBACelebGame https://t.co/UqOMG1ZOTM\"\n",
      "\n",
      "[[9]]\n",
      "[1] \"kb_scrappy_: RT @NBA: ICE IN HIS VEINS!\\n\\n@Jarrius for 2!\\n\\n#NBACelebGame https://t.co/suLIy4sjKK\"\n",
      "\n",
      "[[10]]\n",
      "[1] \"DJE408: RT @NBA: TFW you find Eleven! #NBACelebGame \\n\\n#NBAGIF https://t.co/iF42dUTYZ4\"\n",
      "\n",
      "[[11]]\n",
      "[1] \"razorwang: RT @NBA: ICE IN HIS VEINS!\\n\\n@Jarrius for 2!\\n\\n#NBACelebGame https://t.co/suLIy4sjKK\"\n",
      "\n",
      "[[12]]\n",
      "[1] \"GOODWorkDaniel: RT @NBA: \\xed\\xa0\\xbe\\xed\\xb4\\x94\\xed\\xa0\\xbe\\xed\\xb4\\x94 @DallasMavs owner @MCuban wants you to take note of his #NBACelebGame uniform # tonight... 7pm/et ESPN!\"\n",
      "\n",
      "[[13]]\n",
      "[1] \"LJBCrook: RT @NBA: At the #NBACelebGame, @Jarrius steals the show! #NBAAllStar https://t.co/Ap73WR0Kmc\"\n",
      "\n",
      "[[14]]\n",
      "[1] \"ARaifman: RT @NBA: Your TV is not broken, just the mannequin challenge...\\n\\n#NBACelebGame @ESPNNBA https://t.co/HB9nexHAg0\"\n",
      "\n",
      "[[15]]\n",
      "[1] \"IsmaelCarneir0: RT @10Ronaldinho: Legend! @kingjames @fcbarcelona ⚽️ @nba \\xed\\xa0\\xbc\\xed\\xbf\\x80 @nbaallstar #NBAAllStar #NBACelebGame https://t.co/fCMiUmb3zk\"\n",
      "\n",
      "[[16]]\n",
      "[1] \"mkaotoo: RT @wu_yi_fan: 170217 #KrisWu at the 2017 #NBAAllStar #NBACelebGame\\nAll the best!! \\xed\\xa0\\xbc\\xed\\xbf\\x80\\xed\\xa0\\xbd\\xed\\xb2\\xaa https://t.co/8DHQY54ZcH\"\n",
      "\n",
      "[[17]]\n",
      "[1] \"Sannor1: I was about the talent challenge just like the media was wrong about Trump... #NBAtalentchallenge #NBAAllStarWeekend #NBACelebGame\"\n",
      "\n",
      "[[18]]\n",
      "[1] \"JustSupreme33: RT @RADeMita: thank you for all the support in the #NBACelebGame guys! I had a lot of fun \\xed\\xa0\\xbd\\xed\\xb8\\x8a\\xed\\xa0\\xbc\\xed\\xbf\\x80 (you guys even have me trending on Twitter \\xed\\xa0\\xbd\\xed\\xb9\\x88)…\"\n",
      "\n",
      "[[19]]\n",
      "[1] \"1saiah_Rios: RT @NBA: ICE IN HIS VEINS!\\n\\n@Jarrius for 2!\\n\\n#NBACelebGame https://t.co/suLIy4sjKK\"\n",
      "\n",
      "[[20]]\n",
      "[1] \"WavyElvy: RT @10Ronaldinho: @stephencurry30 @fcbarcelona ⚽️ @nba \\xed\\xa0\\xbc\\xed\\xbf\\x80 @nbaallstar #NBAAllStar #NBACelebGame https://t.co/dgH3MZiXzP\"\n",
      "\n",
      "[[21]]\n",
      "[1] \"morganmichelee: RT @NBA: The only thing @BdotAdot5's James Harden impression is missing is the beard...\\n\\n#NBACelebGame @ESPNNBA https://t.co/hrrmJ6FnBx\"\n",
      "\n",
      "[[22]]\n",
      "[1] \"pearnoii: RT @kissmemyfan_: หลังจบการแข่งขัน #NBACelebGame วันนี้อี้ฝานต้องประคบเย็นเพราะอาการบาดเจ็บที่เอว ดูแลตัวเองด้วยนะฝานฝาน \\xed\\xa0\\xbd\\xed\\xb8\\xa2 cr.galaxy_mirand…\"\n",
      "\n",
      "[[23]]\n",
      "[1] \"Jonathan__007: #NBACelebGame jhon wall y heywar si compitieron y gano heyward lo que pasa que ustedes no lo vieron por que estaban hablando  fue rapido\"\n",
      "\n",
      "[[24]]\n",
      "[1] \"Lean_16R: RT @NBA: At the #NBACelebGame, @Jarrius steals the show! #NBAAllStar https://t.co/Ap73WR0Kmc\"\n",
      "\n",
      "[[25]]\n",
      "[1] \"pankhommiizze: RT @LUHANBOTH_7: \\xed\\xa0\\xbd\\xed\\xb8\\xb1หล่อมากกก เก่งมากแต่ก็ดื้อมากๆเลย #Wuyifan #KrisWuNBACelebGame #NBACelebGame https://t.co/4yqz55R3hY\"\n",
      "\n",
      "[[26]]\n",
      "[1] \"ASuarez1698: RT @10Ronaldinho: Legend! @kingjames @fcbarcelona ⚽️ @nba \\xed\\xa0\\xbc\\xed\\xbf\\x80 @nbaallstar #NBAAllStar #NBACelebGame https://t.co/fCMiUmb3zk\"\n",
      "\n",
      "[[27]]\n",
      "[1] \"TMB350Z: RT @gmitch9: Master P trying to play basketball... #NBAAllStar #NBACelebGame #NBACares https://t.co/F0j3Oy1Lnm\"\n",
      "\n",
      "[[28]]\n",
      "[1] \"thedud3darian: RT @NBA: At the #NBACelebGame, @Jarrius steals the show! #NBAAllStar https://t.co/Ap73WR0Kmc\"\n",
      "\n",
      "[[29]]\n",
      "[1] \"Elijah_papi03: RT @NBA: At the #NBACelebGame, @Jarrius steals the show! #NBAAllStar https://t.co/Ap73WR0Kmc\"\n",
      "\n",
      "[[30]]\n",
      "[1] \"KrisYhee_fanfan: RT @g_alaxyfanfan: KrisKingdom1106: [HQ] 170218 #WuYifan #KrisWu\\n#KrisWuNBACelebGame #NBAAllStar #NBACelebGame \\nCr: Soliloquy独白 https://t.c…\"\n",
      "\n",
      "[[31]]\n",
      "[1] \"theo0503: RT @10Ronaldinho: Legend! @kingjames @fcbarcelona ⚽️ @nba \\xed\\xa0\\xbc\\xed\\xbf\\x80 @nbaallstar #NBAAllStar #NBACelebGame https://t.co/fCMiUmb3zk\"\n",
      "\n",
      "[[32]]\n",
      "[1] \"MikeyFromKaties: Any of the #NBACelebGame hungry come eat at Katies in mid city 3701 Iberville street.\"\n",
      "\n",
      "[[33]]\n",
      "[1] \"fxckquisee: RT @RonG30: Kevin Hart \\xed\\xa0\\xbc\\xed\\xbc\\x9d\\xed\\xa0\\xbd\\xed\\xb8\\x82 Roasting his wife &amp; his friends #NBACelebGame https://t.co/3Hd07utwLx\"\n",
      "\n",
      "[[34]]\n",
      "[1] \"HInuwa93: RT @10Ronaldinho: Legend! @kingjames @fcbarcelona ⚽️ @nba \\xed\\xa0\\xbc\\xed\\xbf\\x80 @nbaallstar #NBAAllStar #NBACelebGame https://t.co/fCMiUmb3zk\"\n",
      "\n",
      "[[35]]\n",
      "[1] \"joshgotgame_: RT @NBA: Your TV is not broken, just the mannequin challenge...\\n\\n#NBACelebGame @ESPNNBA https://t.co/HB9nexHAg0\"\n",
      "\n",
      "[[36]]\n",
      "[1] \"MeItend: RT @NBA: Listen in on #DraymondGreen and @Jarrius' conversation at the #NBACelebGame! https://t.co/KiIEC2FCBV\"\n",
      "\n",
      "[[37]]\n",
      "[1] \"rrodolis: Yo Tasha you got a boyfriend? #nba #NBACelebGame\"\n",
      "\n",
      "[[38]]\n",
      "[1] \"Toniiweezy: #NBACelebGame #KyrieIrving\"\n",
      "\n",
      "[[39]]\n",
      "[1] \"ning_krz: RT @kissmemyfan_: หลังจบการแข่งขัน #NBACelebGame วันนี้อี้ฝานต้องประคบเย็นเพราะอาการบาดเจ็บที่เอว ดูแลตัวเองด้วยนะฝานฝาน \\xed\\xa0\\xbd\\xed\\xb8\\xa2 cr.galaxy_mirand…\"\n",
      "\n",
      "[[40]]\n",
      "[1] \"AnNadezhda: RT @NBA: At the #NBACelebGame, @Jarrius steals the show! #NBAAllStar https://t.co/Ap73WR0Kmc\"\n",
      "\n",
      "[[41]]\n",
      "[1] \"30mk_sp2: RT @10Ronaldinho: @stephencurry30 @fcbarcelona ⚽️ @nba \\xed\\xa0\\xbc\\xed\\xbf\\x80 @nbaallstar #NBAAllStar #NBACelebGame https://t.co/dgH3MZiXzP\"\n",
      "\n",
      "[[42]]\n",
      "[1] \"__Cruise: RT @NBA: Check out the skills of #NBACelebGame MVP @BdotAdot5! https://t.co/LT8KjZ5I8O\"\n",
      "\n",
      "[[43]]\n",
      "[1] \"ShettyPrathvi: RT @10Ronaldinho: Legend! @kingjames @fcbarcelona ⚽️ @nba \\xed\\xa0\\xbc\\xed\\xbf\\x80 @nbaallstar #NBAAllStar #NBACelebGame https://t.co/fCMiUmb3zk\"\n",
      "\n",
      "[[44]]\n",
      "[1] \"pearnoii: RT @Fortitude_XIVI: #KrisWu 170218 NBA All Star Celebrity Game in New Orleans\\n\\n#NBAAllStar #NBACelebGame https://t.co/9j9h8n8BCM\"\n",
      "\n",
      "[[45]]\n",
      "[1] \"RussWest69: RT @RADeMita: thank you for all the support in the #NBACelebGame guys! I had a lot of fun \\xed\\xa0\\xbd\\xed\\xb8\\x8a\\xed\\xa0\\xbc\\xed\\xbf\\x80 (you guys even have me trending on Twitter \\xed\\xa0\\xbd\\xed\\xb9\\x88)…\"\n",
      "\n",
      "[[46]]\n",
      "[1] \"bpamaral: RT @NBA: ICE IN HIS VEINS!\\n\\n@Jarrius for 2!\\n\\n#NBACelebGame https://t.co/suLIy4sjKK\"\n",
      "\n",
      "[[47]]\n",
      "[1] \"pearnoii: RT @Fortitude_XIVI: #KrisWu 170218 NBA All Star Celebrity Game in New Orleans\\n\\n#NBAAllStar #NBACelebGame https://t.co/JvivChpLJm\"\n",
      "\n",
      "[[48]]\n",
      "[1] \"pearnoii: RT @Fortitude_XIVI: #KrisWu 170218 NBA All Star Celebrity Game in New Orleans\\n\\n#NBAAllStar #NBACelebGame https://t.co/VgV1vJk8Uz\"\n",
      "\n",
      "[[49]]\n",
      "[1] \"OkOkJimineTuan: RT @KrisWuBurberry: Kris Wu at the #NBAAllStar Celebrity game #NBACelebGame https://t.co/1qUpOsoOri\"\n",
      "\n",
      "[[50]]\n",
      "[1] \"Ken_Nuke: RT @NBA: White Chocolate's still got it! #NBACelebGame https://t.co/mSPCTzkboG\"\n",
      "\n"
     ]
    }
   ],
   "source": [
    "#Searching twitter\n",
    "tweets<-searchTwitter('#NBACelebGame',n=50)\n",
    "show(tweets)"
   ]
  },
  {
   "cell_type": "code",
   "execution_count": 3,
   "metadata": {
    "collapsed": false
   },
   "outputs": [
    {
     "data": {
      "text/plain": [
       "[[1]]\n",
       "[1] \"BuzzBasketbol: #NBACelebGame'de James Harden taklidi \\xed\\xa0\\xbd\\xed\\xb8\\x82https://t.co/b3hsRIJTh0\"\n",
       "\n",
       "[[2]]\n",
       "[1] \"laveme224: #RealTime\\n#NBACelebGame\\n#FunTimeFebrero2017 https://t.co/GGwwlGHob4\"\n",
       "\n",
       "[[3]]\n",
       "[1] \"laveme224: #RealTime\\n#NBACelebGame\\n#FunTimeFebrero2017 https://t.co/fcJx7VmVRP\"\n"
      ]
     },
     "metadata": {},
     "output_type": "display_data"
    }
   ],
   "source": [
    " head(strip_retweets(tweets, strip_manual=TRUE, strip_mt=TRUE))"
   ]
  },
  {
   "cell_type": "code",
   "execution_count": 19,
   "metadata": {
    "collapsed": false
   },
   "outputs": [
    {
     "data": {
      "text/html": [
       "'being a feminist rap fan is hard.'"
      ],
      "text/latex": [
       "'being a feminist rap fan is hard.'"
      ],
      "text/markdown": [
       "'being a feminist rap fan is hard.'"
      ],
      "text/plain": [
       "[1] \"being a feminist rap fan is hard.\""
      ]
     },
     "metadata": {},
     "output_type": "display_data"
    }
   ],
   "source": [
    "#Looking at users\n",
    "user<- getUser('yoitsrosalie')\n",
    "user$getDescription()        "
   ]
  },
  {
   "cell_type": "code",
   "execution_count": 20,
   "metadata": {
    "collapsed": false
   },
   "outputs": [
    {
     "data": {
      "text/html": [
       "452"
      ],
      "text/latex": [
       "452"
      ],
      "text/markdown": [
       "452"
      ],
      "text/plain": [
       "[1] 452"
      ]
     },
     "metadata": {},
     "output_type": "display_data"
    }
   ],
   "source": [
    "#Get the count of followers of that particular user\n",
    "user$getFollowersCount()\n"
   ]
  },
  {
   "cell_type": "code",
   "execution_count": 21,
   "metadata": {
    "collapsed": false
   },
   "outputs": [
    {
     "data": {
      "text/plain": [
       "$`16314483`\n",
       "[1] \"adrianMiller\"\n",
       "\n",
       "$`30354991`\n",
       "[1] \"KamalaHarris\"\n",
       "\n",
       "$`17115747`\n",
       "[1] \"spencefos\"\n",
       "\n",
       "$`319904285`\n",
       "[1] \"Kaiydo\"\n",
       "\n",
       "$`824833019127140352`\n",
       "[1] \"filamformation\"\n",
       "\n",
       "$`190817481`\n",
       "[1] \"AsiansOnFilm\"\n"
      ]
     },
     "metadata": {},
     "output_type": "display_data"
    }
   ],
   "source": [
    "user$getFriends(n=6)"
   ]
  },
  {
   "cell_type": "code",
   "execution_count": 22,
   "metadata": {
    "collapsed": false
   },
   "outputs": [
    {
     "data": {
      "text/plain": [
       "[[1]]\n",
       "[1] \"PowerManifested: @TalibKweli always giving them that work https://t.co/2KHH75FEEf\"\n",
       "\n",
       "[[2]]\n",
       "[1] \"gracellle: @yoitsrosalie yes girl I'm widdit \\xed\\xa0\\xbd\\xed\\xb2\\x96\"\n",
       "\n",
       "[[3]]\n",
       "[1] \"ak_asuncion: @yoitsrosalie @leesa_m23 https://t.co/LTdnLwRe32\"\n",
       "\n",
       "[[4]]\n",
       "[1] \"SuggSavage: Must.. make... dance song... right... now...\"\n",
       "\n",
       "[[5]]\n",
       "[1] \"wrobillardcole: Last Night Was A Movie \\xed\\xa0\\xbc\\xed\\xbe\\xa5 https://t.co/pomadaJ27G\"\n"
      ]
     },
     "metadata": {},
     "output_type": "display_data"
    }
   ],
   "source": [
    "user$getFavorites(n=5)"
   ]
  },
  {
   "cell_type": "code",
   "execution_count": 8,
   "metadata": {
    "collapsed": false
   },
   "outputs": [
    {
     "data": {
      "text/html": [
       "<table>\n",
       "<thead><tr><th scope=col>text</th><th scope=col>favorited</th><th scope=col>favoriteCount</th><th scope=col>replyToSN</th><th scope=col>created</th><th scope=col>truncated</th><th scope=col>replyToSID</th><th scope=col>id</th><th scope=col>replyToUID</th><th scope=col>statusSource</th><th scope=col>screenName</th><th scope=col>retweetCount</th><th scope=col>isRetweet</th><th scope=col>retweeted</th><th scope=col>longitude</th><th scope=col>latitude</th></tr></thead>\n",
       "<tbody>\n",
       "\t<tr><td><span style=white-space:pre-wrap>RT @baiyfron: 170217\n",
       " Jr. NBA の中国の子供達に教えてあげたのね♫\n",
       "正に日本でいうところの凡先生だねｗｗｗ（中国だと凡老師ってことかな）\n",
       "#NBACelebGame  \n",
       "#吴亦凡 #WuYiFan #KrisWu #クリス・ウー #凡凡 \n",
       "#NBAA…</span></td><td>FALSE                                                                                                                                                                                                                                                 </td><td>0                                                                                                                                                                                                                                                     </td><td>NA                                                                                                                                                                                                                                                    </td><td>2017-02-18 06:25:54                                                                                                                                                                                                                                   </td><td>FALSE                                                                                                                                                                                                                                                 </td><td>NA                                                                                                                                                                                                                                                    </td><td>832838534910218240                                                                                                                                                                                                                                    </td><td>NA                                                                                                                                                                                                                                                    </td><td>&lt;a href=\"http://twitter.com/download/android\" rel=\"nofollow\"&gt;Twitter for Android&lt;/a&gt;                                                                                                                                                      </td><td><span style=white-space:pre-wrap>yanti59700894  </span>                                                                                                                                                                                               </td><td><span style=white-space:pre-wrap>   1</span>                                                                                                                                                                                                          </td><td>TRUE                                                                                                                                                                                                                                                  </td><td>FALSE                                                                                                                                                                                                                                                 </td><td>NA                                                                                                                                                                                                                                                    </td><td>NA                                                                                                                                                                                                                                                    </td></tr>\n",
       "\t<tr><td><span style=white-space:pre-wrap>RT @wsyokky: โอ้ยยย น่ารักมากกกกกกกกก &amp;gt;.&amp;lt; \n",
       "#KrisWuNBACelebGame #NBAAllStar #NBACelebGame #KrisWuNBA #KrisWu #WuYiFan https://t.co/5JfuT9oZsw                                                              </span></td><td>FALSE                                                                                                                                                                                                                                                         </td><td>0                                                                                                                                                                                                                                                             </td><td>NA                                                                                                                                                                                                                                                            </td><td>2017-02-18 06:25:49                                                                                                                                                                                                                                           </td><td>FALSE                                                                                                                                                                                                                                                         </td><td>NA                                                                                                                                                                                                                                                            </td><td>832838512831401984                                                                                                                                                                                                                                            </td><td>NA                                                                                                                                                                                                                                                            </td><td><span style=white-space:pre-wrap>&lt;a href=\"http://twitter.com/download/iphone\" rel=\"nofollow\"&gt;Twitter for iPhone&lt;/a&gt;  </span>                                                                                                                      </td><td><span style=white-space:pre-wrap>jai_yiyanyun   </span>                                                                                                                                                                                                       </td><td><span style=white-space:pre-wrap>  23</span>                                                                                                                                                                                                                  </td><td>TRUE                                                                                                                                                                                                                                                          </td><td>FALSE                                                                                                                                                                                                                                                         </td><td>NA                                                                                                                                                                                                                                                            </td><td>NA                                                                                                                                                                                                                                                            </td></tr>\n",
       "\t<tr><td><span style=white-space:pre-wrap>RT @baiyfron: 170217\n",
       " Jr. NBA の中国の子供達に教えてあげたのね♫\n",
       "正に日本でいうところの凡先生だねｗｗｗ（中国だと凡老師ってことかな）\n",
       "#NBACelebGame  \n",
       "#吴亦凡 #WuYiFan #KrisWu #クリス・ウー #凡凡 \n",
       "#NBAA…</span></td><td>FALSE                                                                                                                                                                                                                                                 </td><td>0                                                                                                                                                                                                                                                     </td><td>NA                                                                                                                                                                                                                                                    </td><td>2017-02-18 06:25:47                                                                                                                                                                                                                                   </td><td>FALSE                                                                                                                                                                                                                                                 </td><td>NA                                                                                                                                                                                                                                                    </td><td>832838505029963776                                                                                                                                                                                                                                    </td><td>NA                                                                                                                                                                                                                                                    </td><td>&lt;a href=\"http://twitter.com/download/android\" rel=\"nofollow\"&gt;Twitter for Android&lt;/a&gt;                                                                                                                                                      </td><td><span style=white-space:pre-wrap>yanti59700894  </span>                                                                                                                                                                                               </td><td><span style=white-space:pre-wrap>   1</span>                                                                                                                                                                                                          </td><td>TRUE                                                                                                                                                                                                                                                  </td><td>FALSE                                                                                                                                                                                                                                                 </td><td>NA                                                                                                                                                                                                                                                    </td><td>NA                                                                                                                                                                                                                                                    </td></tr>\n",
       "\t<tr><td><span style=white-space:pre-wrap>RT @NBA: Your TV is not broken, just the mannequin challenge...\n",
       "\n",
       "#NBACelebGame @ESPNNBA https://t.co/HB9nexHAg0                                                                                             </span></td><td>FALSE                                                                                                                                                                                                                                                 </td><td>0                                                                                                                                                                                                                                                     </td><td>NA                                                                                                                                                                                                                                                    </td><td>2017-02-18 06:25:47                                                                                                                                                                                                                                   </td><td>FALSE                                                                                                                                                                                                                                                 </td><td>NA                                                                                                                                                                                                                                                    </td><td>832838503306141696                                                                                                                                                                                                                                    </td><td>NA                                                                                                                                                                                                                                                    </td><td><span style=white-space:pre-wrap>&lt;a href=\"http://twitter.com/download/iphone\" rel=\"nofollow\"&gt;Twitter for iPhone&lt;/a&gt;  </span>                                                                                                              </td><td><span style=white-space:pre-wrap>thekellyni     </span>                                                                                                                                                                                               </td><td>2299                                                                                                                                                                                                                                                  </td><td>TRUE                                                                                                                                                                                                                                                  </td><td>FALSE                                                                                                                                                                                                                                                 </td><td>NA                                                                                                                                                                                                                                                    </td><td>NA                                                                                                                                                                                                                                                    </td></tr>\n",
       "\t<tr><td><span style=white-space:pre-wrap>RT @NBAAllStar: With 16 points &amp;amp; 15 rebounds, @BdotAdot5 takes home MVP honors at the #NBACelebGame! #NBAAllStar https://t.co/wXxSBhgsUv                                                                  </span></td><td>FALSE                                                                                                                                                                                                                                                     </td><td>0                                                                                                                                                                                                                                                         </td><td>NA                                                                                                                                                                                                                                                        </td><td>2017-02-18 06:25:43                                                                                                                                                                                                                                       </td><td>FALSE                                                                                                                                                                                                                                                     </td><td>NA                                                                                                                                                                                                                                                        </td><td>832838487367892992                                                                                                                                                                                                                                        </td><td>NA                                                                                                                                                                                                                                                        </td><td>&lt;a href=\"http://twitter.com/download/android\" rel=\"nofollow\"&gt;Twitter for Android&lt;/a&gt;                                                                                                                                                          </td><td><span style=white-space:pre-wrap>OJ_Washington  </span>                                                                                                                                                                                                   </td><td> 497                                                                                                                                                                                                                                                      </td><td>TRUE                                                                                                                                                                                                                                                      </td><td>FALSE                                                                                                                                                                                                                                                     </td><td>NA                                                                                                                                                                                                                                                        </td><td>NA                                                                                                                                                                                                                                                        </td></tr>\n",
       "\t<tr><td><span style=white-space:pre-wrap>RT @NBA: 16 points.\n",
       "\n",
       "15 rebounds.\n",
       "\n",
       "Your 2017 #NBACelebGame MVP....@BdotAdot5! https://t.co/K9uuNRcdyh                                                                                                     </span></td><td>FALSE                                                                                                                                                                                                                                                 </td><td>0                                                                                                                                                                                                                                                     </td><td>NA                                                                                                                                                                                                                                                    </td><td>2017-02-18 06:25:39                                                                                                                                                                                                                                   </td><td>FALSE                                                                                                                                                                                                                                                 </td><td>NA                                                                                                                                                                                                                                                    </td><td>832838469592428545                                                                                                                                                                                                                                    </td><td>NA                                                                                                                                                                                                                                                    </td><td><span style=white-space:pre-wrap>&lt;a href=\"http://twitter.com/download/iphone\" rel=\"nofollow\"&gt;Twitter for iPhone&lt;/a&gt;  </span>                                                                                                              </td><td>Dechristopher_C                                                                                                                                                                                                                                       </td><td>1726                                                                                                                                                                                                                                                  </td><td>TRUE                                                                                                                                                                                                                                                  </td><td>FALSE                                                                                                                                                                                                                                                 </td><td>NA                                                                                                                                                                                                                                                    </td><td>NA                                                                                                                                                                                                                                                    </td></tr>\n",
       "</tbody>\n",
       "</table>\n"
      ],
      "text/latex": [
       "\\begin{tabular}{r|llllllllllllllll}\n",
       " text & favorited & favoriteCount & replyToSN & created & truncated & replyToSID & id & replyToUID & statusSource & screenName & retweetCount & isRetweet & retweeted & longitude & latitude\\\\\n",
       "\\hline\n",
       "\t RT @baiyfron: 170217\n",
       " Jr. NBA の中国の子供達に教えてあげたのね♫\n",
       "正に日本でいうところの凡先生だねｗｗｗ（中国だと凡老師ってことかな）\n",
       "\\#NBACelebGame  \n",
       "\\#吴亦凡 \\#WuYiFan \\#KrisWu \\#クリス・ウー \\#凡凡 \n",
       "\\#NBAA… & FALSE                                                                                                                                                                                                                        & 0                                                                                                                                                                                                                            & NA                                                                                                                                                                                                                           & 2017-02-18 06:25:54                                                                                                                                                                                                          & FALSE                                                                                                                                                                                                                        & NA                                                                                                                                                                                                                           & 832838534910218240                                                                                                                                                                                                           & NA                                                                                                                                                                                                                           & <a href=\"http://twitter.com/download/android\" rel=\"nofollow\">Twitter for Android</a>                                                                                                                                         & yanti59700894                                                                                                                                                                                                                &    1                                                                                                                                                                                                                         & TRUE                                                                                                                                                                                                                         & FALSE                                                                                                                                                                                                                        & NA                                                                                                                                                                                                                           & NA                                                                                                                                                                                                                          \\\\\n",
       "\t RT @wsyokky: โอ้ยยย น่ารักมากกกกกกกกก \\&gt;.\\&lt; \n",
       "\\#KrisWuNBACelebGame \\#NBAAllStar \\#NBACelebGame \\#KrisWuNBA \\#KrisWu \\#WuYiFan https://t.co/5JfuT9oZsw                                                               & FALSE                                                                                                                                                                                                                          & 0                                                                                                                                                                                                                              & NA                                                                                                                                                                                                                             & 2017-02-18 06:25:49                                                                                                                                                                                                            & FALSE                                                                                                                                                                                                                          & NA                                                                                                                                                                                                                             & 832838512831401984                                                                                                                                                                                                             & NA                                                                                                                                                                                                                             & <a href=\"http://twitter.com/download/iphone\" rel=\"nofollow\">Twitter for iPhone</a>                                                                                                                                             & jai\\_yiyanyun                                                                                                                                                                                                                 &   23                                                                                                                                                                                                                           & TRUE                                                                                                                                                                                                                           & FALSE                                                                                                                                                                                                                          & NA                                                                                                                                                                                                                             & NA                                                                                                                                                                                                                            \\\\\n",
       "\t RT @baiyfron: 170217\n",
       " Jr. NBA の中国の子供達に教えてあげたのね♫\n",
       "正に日本でいうところの凡先生だねｗｗｗ（中国だと凡老師ってことかな）\n",
       "\\#NBACelebGame  \n",
       "\\#吴亦凡 \\#WuYiFan \\#KrisWu \\#クリス・ウー \\#凡凡 \n",
       "\\#NBAA… & FALSE                                                                                                                                                                                                                        & 0                                                                                                                                                                                                                            & NA                                                                                                                                                                                                                           & 2017-02-18 06:25:47                                                                                                                                                                                                          & FALSE                                                                                                                                                                                                                        & NA                                                                                                                                                                                                                           & 832838505029963776                                                                                                                                                                                                           & NA                                                                                                                                                                                                                           & <a href=\"http://twitter.com/download/android\" rel=\"nofollow\">Twitter for Android</a>                                                                                                                                         & yanti59700894                                                                                                                                                                                                                &    1                                                                                                                                                                                                                         & TRUE                                                                                                                                                                                                                         & FALSE                                                                                                                                                                                                                        & NA                                                                                                                                                                                                                           & NA                                                                                                                                                                                                                          \\\\\n",
       "\t RT @NBA: Your TV is not broken, just the mannequin challenge...\n",
       "\n",
       "\\#NBACelebGame @ESPNNBA https://t.co/HB9nexHAg0                                                                                              & FALSE                                                                                                                                                                                                            & 0                                                                                                                                                                                                                & NA                                                                                                                                                                                                               & 2017-02-18 06:25:47                                                                                                                                                                                              & FALSE                                                                                                                                                                                                            & NA                                                                                                                                                                                                               & 832838503306141696                                                                                                                                                                                               & NA                                                                                                                                                                                                               & <a href=\"http://twitter.com/download/iphone\" rel=\"nofollow\">Twitter for iPhone</a>                                                                                                                               & thekellyni                                                                                                                                                                                                       & 2299                                                                                                                                                                                                             & TRUE                                                                                                                                                                                                             & FALSE                                                                                                                                                                                                            & NA                                                                                                                                                                                                               & NA                                                                                                                                                                                                              \\\\\n",
       "\t RT @NBAAllStar: With 16 points \\&amp; 15 rebounds, @BdotAdot5 takes home MVP honors at the \\#NBACelebGame! \\#NBAAllStar https://t.co/wXxSBhgsUv                                                                   & FALSE                                                                                                                                                                                                                & 0                                                                                                                                                                                                                    & NA                                                                                                                                                                                                                   & 2017-02-18 06:25:43                                                                                                                                                                                                  & FALSE                                                                                                                                                                                                                & NA                                                                                                                                                                                                                   & 832838487367892992                                                                                                                                                                                                   & NA                                                                                                                                                                                                                   & <a href=\"http://twitter.com/download/android\" rel=\"nofollow\">Twitter for Android</a>                                                                                                                                 & OJ\\_Washington                                                                                                                                                                                                      &  497                                                                                                                                                                                                                 & TRUE                                                                                                                                                                                                                 & FALSE                                                                                                                                                                                                                & NA                                                                                                                                                                                                                   & NA                                                                                                                                                                                                                  \\\\\n",
       "\t RT @NBA: 16 points.\n",
       "\n",
       "15 rebounds.\n",
       "\n",
       "Your 2017 \\#NBACelebGame MVP....@BdotAdot5! https://t.co/K9uuNRcdyh                                                                                                      & FALSE                                                                                                                                                                                                            & 0                                                                                                                                                                                                                & NA                                                                                                                                                                                                               & 2017-02-18 06:25:39                                                                                                                                                                                              & FALSE                                                                                                                                                                                                            & NA                                                                                                                                                                                                               & 832838469592428545                                                                                                                                                                                               & NA                                                                                                                                                                                                               & <a href=\"http://twitter.com/download/iphone\" rel=\"nofollow\">Twitter for iPhone</a>                                                                                                                               & Dechristopher\\_C                                                                                                                                                                                                & 1726                                                                                                                                                                                                             & TRUE                                                                                                                                                                                                             & FALSE                                                                                                                                                                                                            & NA                                                                                                                                                                                                               & NA                                                                                                                                                                                                              \\\\\n",
       "\\end{tabular}\n"
      ],
      "text/markdown": [
       "\n",
       "text | favorited | favoriteCount | replyToSN | created | truncated | replyToSID | id | replyToUID | statusSource | screenName | retweetCount | isRetweet | retweeted | longitude | latitude | \n",
       "|---|---|---|---|---|---|\n",
       "| RT @baiyfron: 170217\n",
       " Jr. NBA の中国の子供達に教えてあげたのね♫\n",
       "正に日本でいうところの凡先生だねｗｗｗ（中国だと凡老師ってことかな）\n",
       "#NBACelebGame  \n",
       "#吴亦凡 #WuYiFan #KrisWu #クリス・ウー #凡凡 \n",
       "#NBAA… | FALSE                                                                                                                                                                                                          | 0                                                                                                                                                                                                              | NA                                                                                                                                                                                                             | 2017-02-18 06:25:54                                                                                                                                                                                            | FALSE                                                                                                                                                                                                          | NA                                                                                                                                                                                                             | 832838534910218240                                                                                                                                                                                             | NA                                                                                                                                                                                                             | <a href=\"http://twitter.com/download/android\" rel=\"nofollow\">Twitter for Android</a>                                                                                                                           | yanti59700894                                                                                                                                                                                                  |    1                                                                                                                                                                                                           | TRUE                                                                                                                                                                                                           | FALSE                                                                                                                                                                                                          | NA                                                                                                                                                                                                             | NA                                                                                                                                                                                                             | \n",
       "| RT @wsyokky: โอ้ยยย น่ารักมากกกกกกกกก &gt;.&lt; \n",
       "#KrisWuNBACelebGame #NBAAllStar #NBACelebGame #KrisWuNBA #KrisWu #WuYiFan https://t.co/5JfuT9oZsw                                                               | FALSE                                                                                                                                                                                                          | 0                                                                                                                                                                                                              | NA                                                                                                                                                                                                             | 2017-02-18 06:25:49                                                                                                                                                                                            | FALSE                                                                                                                                                                                                          | NA                                                                                                                                                                                                             | 832838512831401984                                                                                                                                                                                             | NA                                                                                                                                                                                                             | <a href=\"http://twitter.com/download/iphone\" rel=\"nofollow\">Twitter for iPhone</a>                                                                                                                             | jai_yiyanyun                                                                                                                                                                                                   |   23                                                                                                                                                                                                           | TRUE                                                                                                                                                                                                           | FALSE                                                                                                                                                                                                          | NA                                                                                                                                                                                                             | NA                                                                                                                                                                                                             | \n",
       "| RT @baiyfron: 170217\n",
       " Jr. NBA の中国の子供達に教えてあげたのね♫\n",
       "正に日本でいうところの凡先生だねｗｗｗ（中国だと凡老師ってことかな）\n",
       "#NBACelebGame  \n",
       "#吴亦凡 #WuYiFan #KrisWu #クリス・ウー #凡凡 \n",
       "#NBAA… | FALSE                                                                                                                                                                                                          | 0                                                                                                                                                                                                              | NA                                                                                                                                                                                                             | 2017-02-18 06:25:47                                                                                                                                                                                            | FALSE                                                                                                                                                                                                          | NA                                                                                                                                                                                                             | 832838505029963776                                                                                                                                                                                             | NA                                                                                                                                                                                                             | <a href=\"http://twitter.com/download/android\" rel=\"nofollow\">Twitter for Android</a>                                                                                                                           | yanti59700894                                                                                                                                                                                                  |    1                                                                                                                                                                                                           | TRUE                                                                                                                                                                                                           | FALSE                                                                                                                                                                                                          | NA                                                                                                                                                                                                             | NA                                                                                                                                                                                                             | \n",
       "| RT @NBA: Your TV is not broken, just the mannequin challenge...\n",
       "\n",
       "#NBACelebGame @ESPNNBA https://t.co/HB9nexHAg0                                                                                              | FALSE                                                                                                                                                                                                          | 0                                                                                                                                                                                                              | NA                                                                                                                                                                                                             | 2017-02-18 06:25:47                                                                                                                                                                                            | FALSE                                                                                                                                                                                                          | NA                                                                                                                                                                                                             | 832838503306141696                                                                                                                                                                                             | NA                                                                                                                                                                                                             | <a href=\"http://twitter.com/download/iphone\" rel=\"nofollow\">Twitter for iPhone</a>                                                                                                                             | thekellyni                                                                                                                                                                                                     | 2299                                                                                                                                                                                                           | TRUE                                                                                                                                                                                                           | FALSE                                                                                                                                                                                                          | NA                                                                                                                                                                                                             | NA                                                                                                                                                                                                             | \n",
       "| RT @NBAAllStar: With 16 points &amp; 15 rebounds, @BdotAdot5 takes home MVP honors at the #NBACelebGame! #NBAAllStar https://t.co/wXxSBhgsUv                                                                   | FALSE                                                                                                                                                                                                          | 0                                                                                                                                                                                                              | NA                                                                                                                                                                                                             | 2017-02-18 06:25:43                                                                                                                                                                                            | FALSE                                                                                                                                                                                                          | NA                                                                                                                                                                                                             | 832838487367892992                                                                                                                                                                                             | NA                                                                                                                                                                                                             | <a href=\"http://twitter.com/download/android\" rel=\"nofollow\">Twitter for Android</a>                                                                                                                           | OJ_Washington                                                                                                                                                                                                  |  497                                                                                                                                                                                                           | TRUE                                                                                                                                                                                                           | FALSE                                                                                                                                                                                                          | NA                                                                                                                                                                                                             | NA                                                                                                                                                                                                             | \n",
       "| RT @NBA: 16 points.\n",
       "\n",
       "15 rebounds.\n",
       "\n",
       "Your 2017 #NBACelebGame MVP....@BdotAdot5! https://t.co/K9uuNRcdyh                                                                                                      | FALSE                                                                                                                                                                                                          | 0                                                                                                                                                                                                              | NA                                                                                                                                                                                                             | 2017-02-18 06:25:39                                                                                                                                                                                            | FALSE                                                                                                                                                                                                          | NA                                                                                                                                                                                                             | 832838469592428545                                                                                                                                                                                             | NA                                                                                                                                                                                                             | <a href=\"http://twitter.com/download/iphone\" rel=\"nofollow\">Twitter for iPhone</a>                                                                                                                             | Dechristopher_C                                                                                                                                                                                                | 1726                                                                                                                                                                                                           | TRUE                                                                                                                                                                                                           | FALSE                                                                                                                                                                                                          | NA                                                                                                                                                                                                             | NA                                                                                                                                                                                                             | \n",
       "\n",
       "\n"
      ],
      "text/plain": [
       "  text                                                                                                                                                                                                          \n",
       "1 RT @baiyfron: 170217\\n Jr. NBA の中国の子供達に教えてあげたのね♫\\n正に日本でいうところの凡先生だねｗｗｗ（中国だと凡老師ってことかな）\\n#NBACelebGame  \\n#吴亦凡 #WuYiFan #KrisWu #クリス・ウー #凡凡 \\n#NBAA…\n",
       "2 RT @wsyokky: โอ้ยยย น่ารักมากกกกกกกกก &gt;.&lt; \\n#KrisWuNBACelebGame #NBAAllStar #NBACelebGame #KrisWuNBA #KrisWu #WuYiFan https://t.co/5JfuT9oZsw                                                              \n",
       "3 RT @baiyfron: 170217\\n Jr. NBA の中国の子供達に教えてあげたのね♫\\n正に日本でいうところの凡先生だねｗｗｗ（中国だと凡老師ってことかな）\\n#NBACelebGame  \\n#吴亦凡 #WuYiFan #KrisWu #クリス・ウー #凡凡 \\n#NBAA…\n",
       "4 RT @NBA: Your TV is not broken, just the mannequin challenge...\\n\\n#NBACelebGame @ESPNNBA https://t.co/HB9nexHAg0                                                                                             \n",
       "5 RT @NBAAllStar: With 16 points &amp; 15 rebounds, @BdotAdot5 takes home MVP honors at the #NBACelebGame! #NBAAllStar https://t.co/wXxSBhgsUv                                                                  \n",
       "6 RT @NBA: 16 points.\\n\\n15 rebounds.\\n\\nYour 2017 #NBACelebGame MVP....@BdotAdot5! https://t.co/K9uuNRcdyh                                                                                                     \n",
       "  favorited favoriteCount replyToSN created             truncated replyToSID\n",
       "1 FALSE     0             NA        2017-02-18 06:25:54 FALSE     NA        \n",
       "2 FALSE     0             NA        2017-02-18 06:25:49 FALSE     NA        \n",
       "3 FALSE     0             NA        2017-02-18 06:25:47 FALSE     NA        \n",
       "4 FALSE     0             NA        2017-02-18 06:25:47 FALSE     NA        \n",
       "5 FALSE     0             NA        2017-02-18 06:25:43 FALSE     NA        \n",
       "6 FALSE     0             NA        2017-02-18 06:25:39 FALSE     NA        \n",
       "  id                 replyToUID\n",
       "1 832838534910218240 NA        \n",
       "2 832838512831401984 NA        \n",
       "3 832838505029963776 NA        \n",
       "4 832838503306141696 NA        \n",
       "5 832838487367892992 NA        \n",
       "6 832838469592428545 NA        \n",
       "  statusSource                                                                        \n",
       "1 <a href=\"http://twitter.com/download/android\" rel=\"nofollow\">Twitter for Android</a>\n",
       "2 <a href=\"http://twitter.com/download/iphone\" rel=\"nofollow\">Twitter for iPhone</a>  \n",
       "3 <a href=\"http://twitter.com/download/android\" rel=\"nofollow\">Twitter for Android</a>\n",
       "4 <a href=\"http://twitter.com/download/iphone\" rel=\"nofollow\">Twitter for iPhone</a>  \n",
       "5 <a href=\"http://twitter.com/download/android\" rel=\"nofollow\">Twitter for Android</a>\n",
       "6 <a href=\"http://twitter.com/download/iphone\" rel=\"nofollow\">Twitter for iPhone</a>  \n",
       "  screenName      retweetCount isRetweet retweeted longitude latitude\n",
       "1 yanti59700894      1         TRUE      FALSE     NA        NA      \n",
       "2 jai_yiyanyun      23         TRUE      FALSE     NA        NA      \n",
       "3 yanti59700894      1         TRUE      FALSE     NA        NA      \n",
       "4 thekellyni      2299         TRUE      FALSE     NA        NA      \n",
       "5 OJ_Washington    497         TRUE      FALSE     NA        NA      \n",
       "6 Dechristopher_C 1726         TRUE      FALSE     NA        NA      "
      ]
     },
     "metadata": {},
     "output_type": "display_data"
    }
   ],
   "source": [
    "df <- twListToDF(tweets)\n",
    "head(df)"
   ]
  },
  {
   "cell_type": "code",
   "execution_count": 9,
   "metadata": {
    "collapsed": false
   },
   "outputs": [
    {
     "name": "stderr",
     "output_type": "stream",
     "text": [
      "Loading required namespace: RSQLite\n"
     ]
    },
    {
     "data": {
      "text/html": [
       "TRUE"
      ],
      "text/latex": [
       "TRUE"
      ],
      "text/markdown": [
       "TRUE"
      ],
      "text/plain": [
       "[1] TRUE"
      ]
     },
     "metadata": {},
     "output_type": "display_data"
    }
   ],
   "source": [
    "sql_lite_file = tempfile()\n",
    "register_sqlite_backend(sql_lite_file)\n",
    "store_tweets_db(tweets)"
   ]
  },
  {
   "cell_type": "code",
   "execution_count": 10,
   "metadata": {
    "collapsed": false
   },
   "outputs": [
    {
     "data": {
      "text/plain": [
       "[[1]]\n",
       "[1] \"yanti59700894: RT @baiyfron: 170217\\n Jr. NBA の中国の子供達に教えてあげたのね♫\\n正に日本でいうところの凡先生だねｗｗｗ（中国だと凡老師ってことかな）\\n#NBACelebGame  \\n#吴亦凡 #WuYiFan #KrisWu #クリス・ウー #凡凡 \\n#NBAA…\"\n",
       "\n",
       "[[2]]\n",
       "[1] \"jai_yiyanyun: RT @wsyokky: โอ้ยยย น่ารักมากกกกกกกกก &gt;.&lt; \\n#KrisWuNBACelebGame #NBAAllStar #NBACelebGame #KrisWuNBA #KrisWu #WuYiFan https://t.co/5JfuT9oZsw\"\n",
       "\n",
       "[[3]]\n",
       "[1] \"yanti59700894: RT @baiyfron: 170217\\n Jr. NBA の中国の子供達に教えてあげたのね♫\\n正に日本でいうところの凡先生だねｗｗｗ（中国だと凡老師ってことかな）\\n#NBACelebGame  \\n#吴亦凡 #WuYiFan #KrisWu #クリス・ウー #凡凡 \\n#NBAA…\"\n",
       "\n",
       "[[4]]\n",
       "[1] \"thekellyni: RT @NBA: Your TV is not broken, just the mannequin challenge...\\n\\n#NBACelebGame @ESPNNBA https://t.co/HB9nexHAg0\"\n",
       "\n",
       "[[5]]\n",
       "[1] \"OJ_Washington: RT @NBAAllStar: With 16 points &amp; 15 rebounds, @BdotAdot5 takes home MVP honors at the #NBACelebGame! #NBAAllStar https://t.co/wXxSBhgsUv\"\n",
       "\n",
       "[[6]]\n",
       "[1] \"Dechristopher_C: RT @NBA: 16 points.\\n\\n15 rebounds.\\n\\nYour 2017 #NBACelebGame MVP....@BdotAdot5! https://t.co/K9uuNRcdyh\"\n"
      ]
     },
     "metadata": {},
     "output_type": "display_data"
    }
   ],
   "source": [
    "from_db = load_tweets_db()\n",
    "head(from_db)"
   ]
  },
  {
   "cell_type": "code",
   "execution_count": 23,
   "metadata": {
    "collapsed": false
   },
   "outputs": [
    {
     "data": {
      "text/plain": [
       "[[1]]\n",
       "[1] \"yoitsrosalie: .@russwest44 @okcthunder #oklahomacitythunder #RussellWestbrook #NBAAllStar #allstarweekend #okc  #NBACelebGame… https://t.co/B6paODZpVC\"\n",
       "\n",
       "[[2]]\n",
       "[1] \"yoitsrosalie: if you're feeling like a MVP \\xed\\xa0\\xbc\\xed\\xbf\\x86 on all star weekend, check the new track 'Westbrook' by @G_Battles and ride the vibe \\nhttps://t.co/Ryi9kbrIUS\"\n",
       "\n",
       "[[3]]\n",
       "[1] \"yoitsrosalie: I may not have grown up with #Pharcyde but this real #hiphop shit makes me feel like my body heart mind spirit and soul are aligned \\xed\\xa0\\xbc\\xed\\xbe\\xa7\"\n",
       "\n",
       "[[4]]\n",
       "[1] \"yoitsrosalie: lol socially awkward me wins again \\xed\\xa0\\xbe\\xed\\xb4\\xb7\\xed\\xa0\\xbc\\xed\\xbf\\xbb‍♀️\"\n",
       "\n",
       "[[5]]\n",
       "[1] \"yoitsrosalie: I'm really seeing the ying yang twins rn they taught me how to freak dance #Soulquarius \\xed\\xa0\\xbd\\xed\\xb2\\x83\\xed\\xa0\\xbc\\xed\\xbf\\xbb https://t.co/nY7Sx4ofCn\"\n"
      ]
     },
     "metadata": {},
     "output_type": "display_data"
    }
   ],
   "source": [
    "user_tweets <- userTimeline('yoitsrosalie')\n",
    "user_tweets[1:5]"
   ]
  },
  {
   "cell_type": "code",
   "execution_count": 24,
   "metadata": {
    "collapsed": false
   },
   "outputs": [
    {
     "data": {
      "text/html": [
       "85"
      ],
      "text/latex": [
       "85"
      ],
      "text/markdown": [
       "85"
      ],
      "text/plain": [
       "[1] 85"
      ]
     },
     "metadata": {},
     "output_type": "display_data"
    }
   ],
   "source": [
    "user_tweets_large <- userTimeline('yoitsrosalie', n=100)\n",
    "length(user_tweets_large)"
   ]
  },
  {
   "cell_type": "code",
   "execution_count": 13,
   "metadata": {
    "collapsed": false
   },
   "outputs": [
    {
     "data": {
      "text/html": [
       "<table>\n",
       "<thead><tr><th scope=col>name</th><th scope=col>country</th><th scope=col>woeid</th></tr></thead>\n",
       "<tbody>\n",
       "\t<tr><td>Worldwide</td><td>         </td><td>1        </td></tr>\n",
       "\t<tr><td>Winnipeg </td><td>Canada   </td><td>2972     </td></tr>\n",
       "\t<tr><td>Ottawa   </td><td>Canada   </td><td>3369     </td></tr>\n",
       "\t<tr><td>Quebec   </td><td>Canada   </td><td>3444     </td></tr>\n",
       "\t<tr><td>Montreal </td><td>Canada   </td><td>3534     </td></tr>\n",
       "\t<tr><td>Toronto  </td><td>Canada   </td><td>4118     </td></tr>\n",
       "</tbody>\n",
       "</table>\n"
      ],
      "text/latex": [
       "\\begin{tabular}{r|lll}\n",
       " name & country & woeid\\\\\n",
       "\\hline\n",
       "\t Worldwide &           & 1        \\\\\n",
       "\t Winnipeg  & Canada    & 2972     \\\\\n",
       "\t Ottawa    & Canada    & 3369     \\\\\n",
       "\t Quebec    & Canada    & 3444     \\\\\n",
       "\t Montreal  & Canada    & 3534     \\\\\n",
       "\t Toronto   & Canada    & 4118     \\\\\n",
       "\\end{tabular}\n"
      ],
      "text/markdown": [
       "\n",
       "name | country | woeid | \n",
       "|---|---|---|---|---|---|\n",
       "| Worldwide |           | 1         | \n",
       "| Winnipeg  | Canada    | 2972      | \n",
       "| Ottawa    | Canada    | 3369      | \n",
       "| Quebec    | Canada    | 3444      | \n",
       "| Montreal  | Canada    | 3534      | \n",
       "| Toronto   | Canada    | 4118      | \n",
       "\n",
       "\n"
      ],
      "text/plain": [
       "  name      country woeid\n",
       "1 Worldwide         1    \n",
       "2 Winnipeg  Canada  2972 \n",
       "3 Ottawa    Canada  3369 \n",
       "4 Quebec    Canada  3444 \n",
       "5 Montreal  Canada  3534 \n",
       "6 Toronto   Canada  4118 "
      ]
     },
     "metadata": {},
     "output_type": "display_data"
    }
   ],
   "source": [
    "avail_trends = availableTrendLocations()\n",
    "head(avail_trends)"
   ]
  },
  {
   "cell_type": "code",
   "execution_count": 14,
   "metadata": {
    "collapsed": false
   },
   "outputs": [
    {
     "data": {
      "text/html": [
       "<table>\n",
       "<thead><tr><th scope=col>name</th><th scope=col>country</th><th scope=col>woeid</th></tr></thead>\n",
       "<tbody>\n",
       "\t<tr><td>Concepcion</td><td>Chile     </td><td>349860    </td></tr>\n",
       "</tbody>\n",
       "</table>\n"
      ],
      "text/latex": [
       "\\begin{tabular}{r|lll}\n",
       " name & country & woeid\\\\\n",
       "\\hline\n",
       "\t Concepcion & Chile      & 349860    \\\\\n",
       "\\end{tabular}\n"
      ],
      "text/markdown": [
       "\n",
       "name | country | woeid | \n",
       "|---|\n",
       "| Concepcion | Chile      | 349860     | \n",
       "\n",
       "\n"
      ],
      "text/plain": [
       "  name       country woeid \n",
       "1 Concepcion Chile   349860"
      ]
     },
     "metadata": {},
     "output_type": "display_data"
    }
   ],
   "source": [
    "close_trends = closestTrendLocations(-42.8, -71.1)\n",
    "head(close_trends)"
   ]
  },
  {
   "cell_type": "code",
   "execution_count": 15,
   "metadata": {
    "collapsed": false
   },
   "outputs": [
    {
     "data": {
      "text/html": [
       "<table>\n",
       "<thead><tr><th scope=col>name</th><th scope=col>url</th><th scope=col>query</th><th scope=col>woeid</th></tr></thead>\n",
       "<tbody>\n",
       "\t<tr><td>Crimson                                       </td><td>http://twitter.com/search?q=Crimson           </td><td>Crimson                                       </td><td>2367105                                       </td></tr>\n",
       "\t<tr><td>Columbia                                      </td><td>http://twitter.com/search?q=Columbia          </td><td>Columbia                                      </td><td>2367105                                       </td></tr>\n",
       "\t<tr><td>Huskies                                       </td><td>http://twitter.com/search?q=Huskies           </td><td>Huskies                                       </td><td>2367105                                       </td></tr>\n",
       "\t<tr><td>Terriers                                      </td><td>http://twitter.com/search?q=Terriers          </td><td>Terriers                                      </td><td>2367105                                       </td></tr>\n",
       "\t<tr><td>#RedBlackOnePack                              </td><td>http://twitter.com/search?q=%23RedBlackOnePack</td><td>%23RedBlackOnePack                            </td><td>2367105                                       </td></tr>\n",
       "\t<tr><td>#AAASmtg                                      </td><td>http://twitter.com/search?q=%23AAASmtg        </td><td>%23AAASmtg                                    </td><td>2367105                                       </td></tr>\n",
       "</tbody>\n",
       "</table>\n"
      ],
      "text/latex": [
       "\\begin{tabular}{r|llll}\n",
       " name & url & query & woeid\\\\\n",
       "\\hline\n",
       "\t Crimson                                        & http://twitter.com/search?q=Crimson            & Crimson                                        & 2367105                                       \\\\\n",
       "\t Columbia                                       & http://twitter.com/search?q=Columbia           & Columbia                                       & 2367105                                       \\\\\n",
       "\t Huskies                                        & http://twitter.com/search?q=Huskies            & Huskies                                        & 2367105                                       \\\\\n",
       "\t Terriers                                       & http://twitter.com/search?q=Terriers           & Terriers                                       & 2367105                                       \\\\\n",
       "\t \\#RedBlackOnePack                               & http://twitter.com/search?q=\\%23RedBlackOnePack & \\%23RedBlackOnePack                             & 2367105                                         \\\\\n",
       "\t \\#AAASmtg                                       & http://twitter.com/search?q=\\%23AAASmtg         & \\%23AAASmtg                                     & 2367105                                         \\\\\n",
       "\\end{tabular}\n"
      ],
      "text/markdown": [
       "\n",
       "name | url | query | woeid | \n",
       "|---|---|---|---|---|---|\n",
       "| Crimson                                        | http://twitter.com/search?q=Crimson            | Crimson                                        | 2367105                                        | \n",
       "| Columbia                                       | http://twitter.com/search?q=Columbia           | Columbia                                       | 2367105                                        | \n",
       "| Huskies                                        | http://twitter.com/search?q=Huskies            | Huskies                                        | 2367105                                        | \n",
       "| Terriers                                       | http://twitter.com/search?q=Terriers           | Terriers                                       | 2367105                                        | \n",
       "| #RedBlackOnePack                               | http://twitter.com/search?q=%23RedBlackOnePack | %23RedBlackOnePack                             | 2367105                                        | \n",
       "| #AAASmtg                                       | http://twitter.com/search?q=%23AAASmtg         | %23AAASmtg                                     | 2367105                                        | \n",
       "\n",
       "\n"
      ],
      "text/plain": [
       "  name             url                                           \n",
       "1 Crimson          http://twitter.com/search?q=Crimson           \n",
       "2 Columbia         http://twitter.com/search?q=Columbia          \n",
       "3 Huskies          http://twitter.com/search?q=Huskies           \n",
       "4 Terriers         http://twitter.com/search?q=Terriers          \n",
       "5 #RedBlackOnePack http://twitter.com/search?q=%23RedBlackOnePack\n",
       "6 #AAASmtg         http://twitter.com/search?q=%23AAASmtg        \n",
       "  query              woeid  \n",
       "1 Crimson            2367105\n",
       "2 Columbia           2367105\n",
       "3 Huskies            2367105\n",
       "4 Terriers           2367105\n",
       "5 %23RedBlackOnePack 2367105\n",
       "6 %23AAASmtg         2367105"
      ]
     },
     "metadata": {},
     "output_type": "display_data"
    }
   ],
   "source": [
    "trends = getTrends(2367105)\n",
    "head(trends)"
   ]
  },
  {
   "cell_type": "code",
   "execution_count": 16,
   "metadata": {
    "collapsed": false
   },
   "outputs": [
    {
     "data": {
      "image/png": "[encoded data removed]",
      "text/plain": [
       "plot without title"
      ]
     },
     "metadata": {},
     "output_type": "display_data"
    }
   ],
   "source": [
    "r_tweets <- searchTwitter(\"#rstats\", n=300)\n",
    "sources <- sapply(r_tweets, function(x) x$getStatusSource())\n",
    "sources <- gsub(\"</a>\", \"\", sources)\n",
    "sources <- strsplit(sources, \">\")\n",
    "sources <- sapply(sources, function(x) ifelse(length(x) > 1, x[2], x[1]))\n",
    "source_table = table(sources)\n",
    "pie(source_table[source_table > 10])"
   ]
  },
  {
   "cell_type": "code",
   "execution_count": null,
   "metadata": {
    "collapsed": true
   },
   "outputs": [],
   "source": []
  }
 ],
 "metadata": {
  "kernelspec": {
   "display_name": "R",
   "language": "R",
   "name": "ir"
  },
  "language_info": {
   "codemirror_mode": "r",
   "file_extension": ".r",
   "mimetype": "text/x-r-source",
   "name": "R",
   "pygments_lexer": "r",
   "version": "3.3.2"
  }
 },
 "nbformat": 4,
 "nbformat_minor": 2
}
