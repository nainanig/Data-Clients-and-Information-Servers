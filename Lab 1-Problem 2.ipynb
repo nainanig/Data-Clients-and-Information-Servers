{
 "cells": [
  {
   "cell_type": "code",
   "execution_count": 2,
   "metadata": {
    "collapsed": false
   },
   "outputs": [
    {
     "name": "stdout",
     "output_type": "stream",
     "text": [
      "[1] \"Using direct authentication\"\n"
     ]
    }
   ],
   "source": [
    "library(twitteR)\n",
    "library(plyr)\n",
    "library(data.table)\n",
    "setup_twitter_oauth(\"klxgbhkXthwJnyaZkEGhCjkzc\",\"QlDgLS9lZGDu4pmzeedbVsM7yq4SGJMuTg43kqKCwmkcgfmj91\",\"772501946771070976-Jn3eTgPox3BT5AO2JSPhijJT9JRYPaH\",\"17g643pjFbGeH0JIY1Gl9FalHL3K4KtnRbqLljAYc1GDd\")"
   ]
  },
  {
   "cell_type": "code",
   "execution_count": 26,
   "metadata": {
    "collapsed": false
   },
   "outputs": [
    {
     "name": "stdout",
     "output_type": "stream",
     "text": [
      "     name country    woeid\n",
      "425 India   India 23424848\n",
      "[1] \"23424848\"\n"
     ]
    }
   ],
   "source": [
    "#Run this part to get the available locations of trends and get the locations as well as their Montreal\n",
    "avail_trends<-availableTrendLocations()\n",
    "location<-'India'\n",
    "#show(avail_trends)\n",
    "df<-avail_trends[avail_trends$name==location,]\n",
    "show(df)\n",
    "woeid<-df$woeid\n",
    "show(woeid)"
   ]
  },
  {
   "cell_type": "code",
   "execution_count": 27,
   "metadata": {
    "collapsed": false
   },
   "outputs": [
    {
     "data": {
      "text/html": [
       "<ol class=list-inline>\n",
       "\t<li>'Hamilton'</li>\n",
       "\t<li>'#ASOTFESTNL'</li>\n",
       "\t<li>'#floortest'</li>\n",
       "\t<li>'#JioFilmfareAwards'</li>\n",
       "\t<li>'#OPSvsEPS'</li>\n",
       "\t<li>'#UPकीपुकार_BJPइसबार'</li>\n",
       "\t<li>'Marina Beach'</li>\n",
       "\t<li>'तमिलनाडु विधानसभा'</li>\n",
       "\t<li>'JOLLY FIRST HIT OF 2017'</li>\n",
       "\t<li>'#गठबंधन_का_पहला_वादा'</li>\n",
       "</ol>\n"
      ],
      "text/latex": [
       "\\begin{enumerate*}\n",
       "\\item 'Hamilton'\n",
       "\\item '\\#ASOTFESTNL'\n",
       "\\item '\\#floortest'\n",
       "\\item '\\#JioFilmfareAwards'\n",
       "\\item '\\#OPSvsEPS'\n",
       "\\item '\\#UPकीपुकार\\_BJPइसबार'\n",
       "\\item 'Marina Beach'\n",
       "\\item 'तमिलनाडु विधानसभा'\n",
       "\\item 'JOLLY FIRST HIT OF 2017'\n",
       "\\item '\\#गठबंधन\\_का\\_पहला\\_वादा'\n",
       "\\end{enumerate*}\n"
      ],
      "text/markdown": [
       "1. 'Hamilton'\n",
       "2. '#ASOTFESTNL'\n",
       "3. '#floortest'\n",
       "4. '#JioFilmfareAwards'\n",
       "5. '#OPSvsEPS'\n",
       "6. '#UPकीपुकार_BJPइसबार'\n",
       "7. 'Marina Beach'\n",
       "8. 'तमिलनाडु विधानसभा'\n",
       "9. 'JOLLY FIRST HIT OF 2017'\n",
       "10. '#गठबंधन_का_पहला_वादा'\n",
       "\n",
       "\n"
      ],
      "text/plain": [
       " [1] \"Hamilton\"                \"#ASOTFESTNL\"            \n",
       " [3] \"#floortest\"              \"#JioFilmfareAwards\"     \n",
       " [5] \"#OPSvsEPS\"               \"#UPकीपुकार_BJPइसबार\"     \n",
       " [7] \"Marina Beach\"            \"तमिलनाडु विधानसभा\"       \n",
       " [9] \"JOLLY FIRST HIT OF 2017\" \"#गठबंधन_का_पहला_वादा\"    "
      ]
     },
     "metadata": {},
     "output_type": "display_data"
    }
   ],
   "source": [
    "#run this to get the trends of the location entered in the previous cell\n",
    "trends=getTrends(woeid)\n",
    "head(trends$name,10)"
   ]
  },
  {
   "cell_type": "code",
   "execution_count": 24,
   "metadata": {
    "collapsed": false
   },
   "outputs": [
    {
     "data": {
      "text/html": [
       "<table>\n",
       "<thead><tr><th scope=col>name</th><th scope=col>country</th><th scope=col>woeid</th></tr></thead>\n",
       "<tbody>\n",
       "\t<tr><td>Concepcion</td><td>Chile     </td><td>349860    </td></tr>\n",
       "</tbody>\n",
       "</table>\n"
      ],
      "text/latex": [
       "\\begin{tabular}{r|lll}\n",
       " name & country & woeid\\\\\n",
       "\\hline\n",
       "\t Concepcion & Chile      & 349860    \\\\\n",
       "\\end{tabular}\n"
      ],
      "text/markdown": [
       "\n",
       "name | country | woeid | \n",
       "|---|\n",
       "| Concepcion | Chile      | 349860     | \n",
       "\n",
       "\n"
      ],
      "text/plain": [
       "  name       country woeid \n",
       "1 Concepcion Chile   349860"
      ]
     },
     "metadata": {},
     "output_type": "display_data"
    },
    {
     "name": "stdout",
     "output_type": "stream",
     "text": [
      " [1] \"#DestroyABand\"            \"Jamal Murray\"            \n",
      " [3] \"#CWplayoffs\"              \"#NarcissistProblems\"     \n",
      " [5] \"Milo\"                     \"#longestnightpeel\"       \n",
      " [7] \"#BCPainSummit\"            \"Donald Glover\"           \n",
      " [9] \"Kyrie Irving\"             \"Game 3\"                  \n",
      "[11] \"Islam as Muslims\"         \"Vernon\"                  \n",
      "[13] \"The Animal\"               \"Alexandre Daigle\"        \n",
      "[15] \"Sidney Crosby\"            \"NATO\"                    \n",
      "[17] \"National Guard\"           \"Georges St-Pierre\"       \n",
      "[19] \"Scott Pruitt\"             \"Master P\"                \n",
      "[21] \"#ItsAboutTimeI\"           \"#Reign\"                  \n",
      "[23] \"#MakeASongWhiny\"          \"#NBACelebGame\"           \n",
      "[25] \"#BlueBloods\"              \"#LARain\"                 \n",
      "[27] \"#FridayFeeling\"           \"#FamilyDay\"              \n",
      "[29] \"#GARTHinedmonton\"         \"#DayofFacts\"             \n",
      "[31] \"#Garland\"                 \"#M103\"                   \n",
      "[33] \"#WinterShakeUp\"           \"#CdnAgDay\"               \n",
      "[35] \"#CanM20\"                  \"#PresidentialTVShows\"    \n",
      "[37] \"#RVNMO\"                   \"#Riverdale\"              \n",
      "[39] \"#HTGAWM\"                  \"#TrumpPressConference\"   \n",
      "[41] \"#PokemonGO\"               \"#cctca2017\"              \n",
      "[43] \"#VIWF\"                    \"#Change2LettersRuinAFilm\"\n",
      "[45] \"#HockeyDay\"               \"#winefest2017\"           \n",
      "[47] \"#STOH2017\"                \"#RDSCH\"                  \n",
      "[49] \"#fcledu\"                  \"#BlueJackets\"            \n"
     ]
    }
   ],
   "source": [
    "#run this part to get the trends based on the longitude and latitude coordinates of the location\n",
    "lon<-\" \"\n",
    "lat<-\" \"\n",
    "close_trends<-closestTrendLocations(lon,lat)\n",
    "head(close_trends)\n",
    "df<-close_trends$woeid\n",
    "trends<-getTrends(woeid)\n",
    "name<-trends$name\n",
    "show(name)"
   ]
  },
  {
   "cell_type": "code",
   "execution_count": null,
   "metadata": {
    "collapsed": true
   },
   "outputs": [],
   "source": [
    "\n"
   ]
  }
 ],
 "metadata": {
  "kernelspec": {
   "display_name": "R",
   "language": "R",
   "name": "ir"
  },
  "language_info": {
   "codemirror_mode": "r",
   "file_extension": ".r",
   "mimetype": "text/x-r-source",
   "name": "R",
   "pygments_lexer": "r",
   "version": "3.3.2"
  }
 },
 "nbformat": 4,
 "nbformat_minor": 2
}
